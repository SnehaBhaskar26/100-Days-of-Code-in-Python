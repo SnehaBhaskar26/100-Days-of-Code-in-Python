{
 "cells": [
  {
   "cell_type": "code",
   "execution_count": 4,
   "metadata": {},
   "outputs": [
    {
     "name": "stdout",
     "output_type": "stream",
     "text": [
      "Welcome to the tip calculator\n",
      "what was the total bill $2357.98\n",
      "2357.98\n",
      "How much tip would you like to give? 10,12,.or 15  15\n",
      "15\n",
      "How many to split the bill?  34\n",
      "34\n",
      "total amount after adding tip to the original amount 2711.677 \n",
      "%%file79.76\n",
      "Each person should pay: $ %%file79.76 \n"
     ]
    }
   ],
   "source": [
    "#If the bill was $150.00, split between 5 people, with 12% tip. \n",
    "\n",
    "#Each person should pay (150.00 / 5) * 1.12 = 33.6\n",
    "#Format the result to 2 decimal places = 33.60\n",
    "\n",
    "#Tip: There are 2 ways to round a number. You might have to do some Googling to solve this.💪\n",
    "\n",
    "#Write your code below this line 👇\n",
    "\n",
    "print(\"Welcome to the tip calculator\")\n",
    "bill=float(input(\"what was the total bill $\"))\n",
    "print(bill)\n",
    "tip=int(input(\"How much tip would you like to give? 10,12,.or 15  \"))\n",
    "print(tip)\n",
    "split_no=int(input(\"How many to split the bill?  \"))\n",
    "print(split_no)\n",
    "percentage=(tip/100)\n",
    "tip_amount=bill*percentage\n",
    "total_amount=bill+tip_amount\n",
    "print( f\"total amount after adding tip to the original amount {total_amount} \")\n",
    "country=total_amount/split_no\n",
    "#country=round(country,2)\n",
    "#here the rounding off function doesn't work as when we supply the input of for eg. 11.6 or 56 then it doesn't give us results as 11.60 & 56.00 so we have to use string formatting.\n",
    "\n",
    "country=\"%%fil{:.2f}\".format(country)\n",
    "print(country)\n",
    "print(f\"Each person should pay: $ {country} \")"
   ]
  },
  {
   "cell_type": "code",
   "execution_count": null,
   "metadata": {},
   "outputs": [],
   "source": []
  }
 ],
 "metadata": {
  "kernelspec": {
   "display_name": "Python 3",
   "language": "python",
   "name": "python3"
  },
  "language_info": {
   "codemirror_mode": {
    "name": "ipython",
    "version": 3
   },
   "file_extension": ".py",
   "mimetype": "text/x-python",
   "name": "python",
   "nbconvert_exporter": "python",
   "pygments_lexer": "ipython3",
   "version": "3.8.5"
  },
  "toc": {
   "base_numbering": 1,
   "nav_menu": {},
   "number_sections": true,
   "sideBar": true,
   "skip_h1_title": false,
   "title_cell": "Table of Contents",
   "title_sidebar": "Contents",
   "toc_cell": false,
   "toc_position": {},
   "toc_section_display": true,
   "toc_window_display": false
  }
 },
 "nbformat": 4,
 "nbformat_minor": 4
}
