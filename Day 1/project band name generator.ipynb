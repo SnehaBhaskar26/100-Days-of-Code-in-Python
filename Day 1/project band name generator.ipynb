{
 "cells": [
  {
   "cell_type": "code",
   "execution_count": 1,
   "metadata": {},
   "outputs": [
    {
     "name": "stdout",
     "output_type": "stream",
     "text": [
      "Welcome to the Band Name Generator.\n",
      "Enter the city that you grew up in\n",
      "Pune\n",
      "what is your pet name?\n",
      "dolly\n",
      "Your Band Name is Pune dolly\n"
     ]
    }
   ],
   "source": [
    "#1. Create a greeting for your program.\n",
    "print(\"Welcome to the Band Name Generator.\")\n",
    "\n",
    "#2. Ask the user for the city that they grew up in.\n",
    "city=input(\"Enter the city that you grew up in\\n\")\n",
    "#print(city)\n",
    "#3. Ask the user for the name of a pet.\n",
    "pet=input(\"what is your pet name?\\n\")\n",
    "#print(pet)\n",
    "#4. Combine the name of their city and pet and show them their band name.\n",
    "print(\"Your Band Name is \" + city + \" \"+ pet ) \n",
    "#5. Make sure the input cursor shows on a new line, see the example at:\n",
    "#   https://replit.com/@appbrewery/band-name-generator-end"
   ]
  },
  {
   "cell_type": "code",
   "execution_count": null,
   "metadata": {},
   "outputs": [],
   "source": []
  }
 ],
 "metadata": {
  "kernelspec": {
   "display_name": "Python 3",
   "language": "python",
   "name": "python3"
  },
  "language_info": {
   "codemirror_mode": {
    "name": "ipython",
    "version": 3
   },
   "file_extension": ".py",
   "mimetype": "text/x-python",
   "name": "python",
   "nbconvert_exporter": "python",
   "pygments_lexer": "ipython3",
   "version": "3.8.5"
  },
  "toc": {
   "base_numbering": 1,
   "nav_menu": {},
   "number_sections": true,
   "sideBar": true,
   "skip_h1_title": false,
   "title_cell": "Table of Contents",
   "title_sidebar": "Contents",
   "toc_cell": false,
   "toc_position": {},
   "toc_section_display": true,
   "toc_window_display": false
  }
 },
 "nbformat": 4,
 "nbformat_minor": 4
}
