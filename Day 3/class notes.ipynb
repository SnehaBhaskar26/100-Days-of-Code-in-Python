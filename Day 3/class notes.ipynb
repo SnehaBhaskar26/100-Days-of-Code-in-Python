{
 "cells": [
  {
   "cell_type": "markdown",
   "metadata": {},
   "source": [
    "# Day 3"
   ]
  },
  {
   "cell_type": "markdown",
   "metadata": {},
   "source": [
    "## If-else statements"
   ]
  },
  {
   "cell_type": "code",
   "execution_count": 1,
   "metadata": {},
   "outputs": [
    {
     "name": "stdout",
     "output_type": "stream",
     "text": [
      "Continue filling the bath tube with water\n"
     ]
    }
   ],
   "source": [
    "water_level=50\n",
    "if water_level>=90:\n",
    "    print(\"Drain the water\")\n",
    "else:\n",
    "    print(\"Continue filling the bath tube with water\")\n"
   ]
  },
  {
   "cell_type": "code",
   "execution_count": 2,
   "metadata": {},
   "outputs": [
    {
     "name": "stdout",
     "output_type": "stream",
     "text": [
      "Welcome to the rollercoaster!\n",
      "What is your height in cm? 238\n",
      "you can ride rollercoaster\n"
     ]
    }
   ],
   "source": [
    "print(\"Welcome to the rollercoaster!\")\n",
    "height = int(input(\"What is your height in cm? \"))\n",
    "if height>=120:\n",
    "      print(\"you can ride rollercoaster\")\n",
    "else:\n",
    "      print(\"sorry!!! ,you have to grow taller to ride the rollercoaster \")\n",
    "        \n"
   ]
  },
  {
   "cell_type": "markdown",
   "metadata": {},
   "source": [
    "## Nested if- else"
   ]
  },
  {
   "cell_type": "code",
   "execution_count": 3,
   "metadata": {},
   "outputs": [
    {
     "name": "stdout",
     "output_type": "stream",
     "text": [
      "Welcome to the rollercoaster!\n",
      "what is your height in cm?237\n",
      "you can ride rollercoaster\n",
      "what is your age?45\n",
      "you have to pay $12\n"
     ]
    }
   ],
   "source": [
    "print(\"Welcome to the rollercoaster!\")\n",
    "height=int(input(\"what is your height in cm?\"))\n",
    "if height>=120:\n",
    "    \n",
    "    print(\"you can ride rollercoaster\")\n",
    "    age=int(input(\"what is your age?\"))\n",
    "    if age<=18:\n",
    "        print(\"you have to pay $7\")\n",
    "    else:\n",
    "        print(\"you have to pay $12\")\n",
    "else:\n",
    "    print(\"sorry!!, you have to grow taller to ride the rollercoaster\")\n"
   ]
  },
  {
   "cell_type": "markdown",
   "metadata": {},
   "source": [
    "## if- elif-else"
   ]
  },
  {
   "cell_type": "code",
   "execution_count": 4,
   "metadata": {},
   "outputs": [
    {
     "name": "stdout",
     "output_type": "stream",
     "text": [
      "Welcome to the rollercoaster!\n",
      "what is your height in cm?234\n",
      "you can ride rollercoaster\n",
      "what is your age?74\n",
      "you have to pay $12\n"
     ]
    }
   ],
   "source": [
    "print(\"Welcome to the rollercoaster!\")\n",
    "height=int(input(\"what is your height in cm?\"))\n",
    "if height>=120:\n",
    "    print(\"you can ride rollercoaster\")\n",
    "    age=int(input(\"what is your age?\"))\n",
    "    if age<=12:\n",
    "        print(\"you have to pay $5\")\n",
    "    elif 12<age<=18:\n",
    "        print(\"you have to pay $7\") \n",
    "    else:\n",
    "        print(\"you have to pay $12\")\n",
    "else:\n",
    "    print(\"sorry!!, you have to grow taller to ride the rollercoaster\")\n"
   ]
  },
  {
   "cell_type": "markdown",
   "metadata": {},
   "source": [
    "## Multiple if"
   ]
  },
  {
   "cell_type": "code",
   "execution_count": 5,
   "metadata": {},
   "outputs": [
    {
     "name": "stdout",
     "output_type": "stream",
     "text": [
      "Welcome to the rollercoaster!\n",
      "what is your height in cm?345\n",
      "you can ride rollercoaster\n",
      "what is your age?23\n",
      "adult ticket are $12\n",
      "do you want photos? yes or no?yes\n",
      "you have to pay $ 15\n"
     ]
    }
   ],
   "source": [
    "print(\"Welcome to the rollercoaster!\")\n",
    "height=int(input(\"what is your height in cm?\"))\n",
    "m=0\n",
    "if height>=120:\n",
    "    print(\"you can ride rollercoaster\")\n",
    "    age=int(input(\"what is your age?\"))\n",
    "    if age<=12:  \n",
    "        print(\"child tickets are $5\")\n",
    "    elif 12<age<=18:\n",
    "        print(\"youth ticket are $7\") \n",
    "    else:\n",
    "        print(\"adult ticket are $12\")\n",
    "    camera=input(\"do you want photos? yes or no?\")\n",
    "    if camera==\"yes\":\n",
    "        if age<=12:\n",
    "            m=5+3\n",
    "        elif 12<age<=18:\n",
    "              m=7+3   \n",
    "        else:\n",
    "              m=12+3\n",
    "  #print(\"you have to pay \"+ str(m))\n",
    "    if camera==\"no\":\n",
    "        if age<=12:\n",
    "               m=5\n",
    "        elif 12<age<=18:\n",
    "                m=7   \n",
    "        else:\n",
    "               m=12\n",
    "    print(f\"you have to pay $ {m}\")\n",
    "else:\n",
    "      print(\"sorry!!, you have to grow taller to ride the rollercoaster\")\n"
   ]
  },
  {
   "cell_type": "markdown",
   "metadata": {},
   "source": [
    "#### here we have to declare a variable globally because if we define it inside the block of code then its scope will be only limited to that block of code so if you want to access the variable throughout the code then declare it globally instead declaring it locally\n"
   ]
  },
  {
   "cell_type": "markdown",
   "metadata": {},
   "source": [
    "💪 This is a Difficult Challenge 💪\n",
    "Instructions\n",
    "You are going to write a program that tests the compatibility between two people.\n",
    "\n",
    "To work out the love score between two people:\n",
    "\n",
    "Take both people's names and check for the number of times the letters in the word TRUE occurs. \n",
    "\n",
    "Then check for the number of times the letters in the word LOVE occurs. \n",
    "\n",
    "Then combine these numbers to make a 2 digit number.\n",
    "\n",
    "For Love Scores less than 10 or greater than 90, the message should be:\n",
    "\n",
    "\"Your score is **x**, you go together like coke and mentos.\"\n",
    "For Love Scores between 40 and 50, the message should be:\n",
    "\n",
    "\"Your score is **y**, you are alright together.\"\n",
    "Otherwise, the message will just be their score. e.g.:\n",
    "\n",
    "\"Your score is **z**.\"\n",
    "e.g.\n",
    "\n",
    "name1 = \"Angela Yu\"\n",
    "name2 = \"Jack Bauer\"\n",
    "T occurs 0 times\n",
    "\n",
    "R occurs 1 time\n",
    "\n",
    "U occurs 2 times\n",
    "\n",
    "E occurs 2 times\n",
    "\n",
    "Total = 5\n",
    "\n",
    "L occurs 1 time\n",
    "\n",
    "O occurs 0 times\n",
    "\n",
    "V occurs 0 times\n",
    "\n",
    "E occurs 2 times\n",
    "\n",
    "Total = 3\n",
    "\n",
    "Love Score = 53\n",
    "\n",
    "Print: \"Your score is 53.\"\n",
    "\n",
    "Example Input 1\n",
    "name1 = \"Kanye West\"\n",
    "name2 = \"Kim Kardashian\"\n",
    "Example Output 1\n",
    "Your score is 42, you are alright together.\n",
    "Example Input 2\n",
    "name1 = \"Brad Pitt\"\n",
    "name2 = \"Jennifer Aniston\"\n",
    "Example Output 2\n",
    "Your score is 73.\n",
    "e.g. When you hit run, this is what should happen:\n",
    "\n",
    "\n",
    "\n",
    "The testing code will check for print output that is formatted like one of the lines below:\n",
    "\n",
    "\"Your score is 47, you are alright together.\"\n",
    "\"Your score is 125, you go together like coke and mentos.\"\n",
    "\"Your score is 54.\"\n",
    "Hint\n",
    "The lower() function changes all the letters in a string to lower case.\n",
    "https://stackoverflow.com/questions/6797984/how-do-i-lowercase-a-string-in-python\n",
    "\n",
    "The count() function will give you the number of times a letter occurs in a string.\n",
    "https://stackoverflow.com/questions/1155617/count-the-number-occurrences-of-a-character-in-a-string"
   ]
  },
  {
   "cell_type": "markdown",
   "metadata": {},
   "source": [
    "## CONDITIONAL OPERATOR"
   ]
  },
  {
   "cell_type": "code",
   "execution_count": 7,
   "metadata": {},
   "outputs": [
    {
     "name": "stdout",
     "output_type": "stream",
     "text": [
      "Welcome to the rollercoaster!\n",
      "what is your height in cm?345\n",
      "you can ride rollercoaster\n",
      "what is your age?25\n",
      "adult ticket are $12\n",
      "do you want to take photos? yes or no?NO\n",
      "your total bill is $12\n"
     ]
    }
   ],
   "source": [
    "print(\"Welcome to the rollercoaster!\")\n",
    "height=int(input(\"what is your height in cm?\"))\n",
    "bill=0\n",
    "if height>=120:\n",
    "    print(\"you can ride rollercoaster\")\n",
    "    age=int(input(\"what is your age?\"))\n",
    "    if age<=12:\n",
    "        bill=5\n",
    "        print(\"child tickets are $5\")\n",
    "    elif 12<age<=18:\n",
    "        bill=7\n",
    "        print(\"youth ticket are $7\") \n",
    "    else:\n",
    "        bill=12\n",
    "        print(\"adult ticket are $12\")\n",
    "    want_photo=input(\"do you want to take photos? yes or no?\")\n",
    "    if want_photo == \"yes\" :\n",
    "        bill=bill+3\n",
    "    print(f\"your total bill is ${bill}\")\n",
    "else:\n",
    "      print(\"sorry!!, you have to grow taller to ride the rollercoaster\")  \n"
   ]
  },
  {
   "cell_type": "code",
   "execution_count": 8,
   "metadata": {},
   "outputs": [
    {
     "name": "stdout",
     "output_type": "stream",
     "text": [
      "Welcome to the rollercoaster!\n",
      "what is your height in cm?345\n",
      "you can ride rollercoaster\n",
      "what is your age?45\n",
      "You do not have to pay any money\n",
      "do you want to take photos? yes or no?YES\n",
      "your total bill is $0\n"
     ]
    }
   ],
   "source": [
    "\n",
    "print(\"Welcome to the rollercoaster!\")\n",
    "height=int(input(\"what is your height in cm?\"))\n",
    "bill=0\n",
    "if height>=120:\n",
    "    print(\"you can ride rollercoaster\")\n",
    "    age=int(input(\"what is your age?\"))\n",
    "    if age<=12:\n",
    "        bill=5\n",
    "        print(\"child tickets are $5\")\n",
    "    elif 12<age<=18:\n",
    "        bill=7\n",
    "        print(\"youth ticket are $7\")\n",
    "    elif 18<age and 45<=age<=55:\n",
    "        bill=0\n",
    "        print(\"You do not have to pay any money\")\n",
    "    else:\n",
    "        bill=12\n",
    "        print(\"adult ticket are $12\")\n",
    "    want_photo=input(\"do you want to take photos? yes or no?\")\n",
    "    if want_photo == \"yes\" :\n",
    "        bill=bill+3\n",
    "    print(f\"your total bill is ${bill}\")\n",
    "else:\n",
    "    print(\"sorry!!, you have to grow taller to ride the rollercoaster\")  \n"
   ]
  },
  {
   "cell_type": "markdown",
   "metadata": {},
   "source": [
    "### love calculator\n"
   ]
  },
  {
   "cell_type": "code",
   "execution_count": 12,
   "metadata": {},
   "outputs": [
    {
     "name": "stdout",
     "output_type": "stream",
     "text": [
      "Welcome to the Love Calculator!\n",
      "What is your name? \n",
      "sneha\n",
      "What is their name? \n",
      "sakshi\n",
      "Your score is 11.\n"
     ]
    }
   ],
   "source": [
    "# 🚨 Don't change the code below 👇\n",
    "print(\"Welcome to the Love Calculator!\")\n",
    "name1 = input(\"What is your name? \\n\")\n",
    "name2 = input(\"What is their name? \\n\")\n",
    "# 🚨 Don't change the code above 👆\n",
    "\n",
    "#Write your code below this line 👇\n",
    "name1=name1.lower()\n",
    "name2=name2.lower()\n",
    "\n",
    "n1=name1.count(\"l\")\n",
    "n1+=name1.count(\"o\")\n",
    "n1+=name1.count(\"v\")\n",
    "n1+=name1.count(\"e\")\n",
    "#print(n1)\n",
    "\n",
    "n2=name2.count(\"l\")\n",
    "n2+=name2.count(\"o\")\n",
    "n2+=name2.count(\"v\")\n",
    "n2+=name2.count(\"e\")\n",
    "#print(n2)\n",
    "\n",
    "p1=name1.count(\"t\")\n",
    "p1+=name1.count(\"r\")\n",
    "p1+=name1.count(\"u\")\n",
    "p1+=name1.count(\"e\")\n",
    "#print(p1)\n",
    "\n",
    "p2=name2.count(\"t\")\n",
    "p2+=name2.count(\"r\")\n",
    "p2+=name2.count(\"u\")\n",
    "p2+=name2.count(\"e\")\n",
    "#print(p2)\n",
    "\n",
    "name1_score=p2+p1\n",
    "name2_score=n2+n1\n",
    "love_score=int(str(name1_score)+str(name2_score))\n",
    "\n",
    "if love_score<10 or love_score>90:\n",
    "    print(f\"Your score is {love_score}, you go together like coke and mentos.\")\n",
    "elif 40<love_score<50:\n",
    "    print(f\"Your score is {love_score}, you are alright together.\") \n",
    "else:\n",
    "    print(f\"Your score is {love_score}.\")       \n",
    "\n"
   ]
  },
  {
   "cell_type": "code",
   "execution_count": 13,
   "metadata": {},
   "outputs": [
    {
     "name": "stdout",
     "output_type": "stream",
     "text": [
      "Welcome to the Love Calculator!\n",
      "What is your name? \n",
      "sakshi\n",
      "What is their name? \n",
      "sneha\n",
      "Your score is 11.\n"
     ]
    }
   ],
   "source": [
    "# 🚨 Don't change the code below 👇\n",
    "print(\"Welcome to the Love Calculator!\")\n",
    "name1 = input(\"What is your name? \\n\")\n",
    "name2 = input(\"What is their name? \\n\")\n",
    "# 🚨 Don't change the code above 👆\n",
    "\n",
    "#Write your code below this line 👇\n",
    "name1=name1.lower()\n",
    "name2=name2.lower()\n",
    "name=name1+name2\n",
    "\n",
    "love=name.count(\"l\")\n",
    "love+=name.count(\"o\")\n",
    "love+=name.count(\"v\")\n",
    "love+=name.count(\"e\")\n",
    "\n",
    "true=name.count(\"t\")\n",
    "true+=name.count(\"r\")\n",
    "true+=name.count(\"u\")\n",
    "true+=name.count(\"e\")\n",
    "true_love=int(str(true)+str(love))\n",
    "#print(true_love)\n",
    "\n",
    "if true_love<10 or true_love>90:\n",
    "    print(f\"Your score is {true_love}, you go together like coke and mentos.\")\n",
    "elif 40<true_love<50:\n",
    "    print(f\"Your score is {true_love}, you are alright together.\") \n",
    "else:\n",
    "    print(f\"Your score is {true_love}.\")  "
   ]
  },
  {
   "cell_type": "code",
   "execution_count": null,
   "metadata": {},
   "outputs": [],
   "source": []
  }
 ],
 "metadata": {
  "kernelspec": {
   "display_name": "Python 3",
   "language": "python",
   "name": "python3"
  },
  "language_info": {
   "codemirror_mode": {
    "name": "ipython",
    "version": 3
   },
   "file_extension": ".py",
   "mimetype": "text/x-python",
   "name": "python",
   "nbconvert_exporter": "python",
   "pygments_lexer": "ipython3",
   "version": "3.8.5"
  },
  "toc": {
   "base_numbering": 1,
   "nav_menu": {},
   "number_sections": false,
   "sideBar": true,
   "skip_h1_title": false,
   "title_cell": "Table of Contents",
   "title_sidebar": "Contents",
   "toc_cell": false,
   "toc_position": {},
   "toc_section_display": true,
   "toc_window_display": false
  }
 },
 "nbformat": 4,
 "nbformat_minor": 4
}
